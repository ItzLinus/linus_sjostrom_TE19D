{
 "metadata": {
  "language_info": {
   "codemirror_mode": {
    "name": "ipython",
    "version": 3
   },
   "file_extension": ".py",
   "mimetype": "text/x-python",
   "name": "python",
   "nbconvert_exporter": "python",
   "pygments_lexer": "ipython3",
   "version": "3.8.5-final"
  },
  "orig_nbformat": 2,
  "kernelspec": {
   "name": "python3",
   "display_name": "Python 3.8.5 64-bit",
   "metadata": {
    "interpreter": {
     "hash": "916dbcbb3f70747c44a77c7bcd40155683ae19c65e1c03b4aa3499c5328201f1"
    }
   }
  }
 },
 "nbformat": 4,
 "nbformat_minor": 2,
 "cells": [
  {
   "cell_type": "code",
   "execution_count": null,
   "metadata": {},
   "outputs": [],
   "source": [
    "summa = 1\n",
    "for i in range (10, 1, -2):\n",
    "    print(i)\n",
    "    summa *= i\n",
    "print(\"Summan av alla talen är\", summa)"
   ]
  },
  {
   "cell_type": "code",
   "execution_count": null,
   "metadata": {},
   "outputs": [],
   "source": [
    "start = 10000\n",
    "ökning = 1.03\n",
    "år = 15\n",
    "resultat = start*år**ökning\n",
    "print(f\"Efter 15 år har det ökat till\",resultat,\"kr\")\n"
   ]
  },
  {
   "cell_type": "code",
   "execution_count": null,
   "metadata": {},
   "outputs": [],
   "source": [
    "import math as m \n",
    "from decimal import Decimal\n",
    "\n",
    "pengar = int(input(\"Välj ditt belopp...\"))\n",
    "ränta = float(input(\"Välj Ränta...\"))\n",
    "tid = int(input(\"Hur många år...\"))\n",
    "\n",
    "resultat = int(pengar) * float(ränta) ** int(tid);\n",
    "print(resultat, \"kr\")\n"
   ]
  },
  {
   "cell_type": "code",
   "execution_count": null,
   "metadata": {},
   "outputs": [],
   "source": [
    "#Moment04\n",
    "import math as ma\n",
    "a = int(input(\"Ange rektangelns ena sida:\"))\n",
    "b = int(input(\"Ange rektangelns andra sida:\"))\n",
    "area = a*b\n",
    "\n",
    "if a==b: \n",
    "    print(f\"Svaret är {area} a.e. Eftersom bägge sidorna är lika långa så är denna rektangel en kvadrat.\")\n",
    "else:\n",
    "    print(f\"Rektangeln har sidorna {a} och {b} vilket gör att arean är {area} a.e\")\n",
    "print(\" \")\n",
    "print(\" \")\n",
    "print(\"Höjden | Volymen\")\n",
    "print(\"_________________\")\n",
    "print(\" \")\n",
    "for o in range(1,11):\n",
    "    print(o, \"|\",o*area)\n",
    "print(\"_________________\")\n"
   ]
  },
  {
   "cell_type": "code",
   "execution_count": null,
   "metadata": {},
   "outputs": [],
   "source": []
  }
 ]
}