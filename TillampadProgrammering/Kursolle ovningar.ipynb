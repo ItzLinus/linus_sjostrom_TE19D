{
 "metadata": {
  "language_info": {
   "codemirror_mode": {
    "name": "ipython",
    "version": 3
   },
   "file_extension": ".py",
   "mimetype": "text/x-python",
   "name": "python",
   "nbconvert_exporter": "python",
   "pygments_lexer": "ipython3",
   "version": "3.8.3-final"
  },
  "orig_nbformat": 2,
  "kernelspec": {
   "name": "python3",
   "display_name": "Python 3",
   "language": "python"
  }
 },
 "nbformat": 4,
 "nbformat_minor": 2,
 "cells": [
  {
   "cell_type": "code",
   "execution_count": null,
   "metadata": {},
   "outputs": [],
   "source": [
    "#Uppgift: m04u01\n",
    "summa = 1\n",
    "for i in range (10, 1, -2):\n",
    "    print(i)\n",
    "    summa *= i\n",
    "print(\"Summan av alla talen är\", summa)"
   ]
  },
  {
   "cell_type": "code",
   "execution_count": null,
   "metadata": {},
   "outputs": [],
   "source": [
    "#Uppgift: m04u02\n",
    "start = 10000\n",
    "ökning = 1.03\n",
    "år = 15\n",
    "resultat = start*år**ökning\n",
    "print(f\"Efter 15 år har det ökat till\",resultat,\"kr\")\n"
   ]
  },
  {
   "cell_type": "code",
   "execution_count": null,
   "metadata": {},
   "outputs": [],
   "source": [
    "#m04u02 A&B\n",
    "import math as m \n",
    "from decimal import Decimal\n",
    "\n",
    "pengar = int(input(\"Välj ditt belopp...\"))\n",
    "ränta = float(input(\"Välj Ränta...\"))\n",
    "tid = int(input(\"Hur många år...\"))\n",
    "\n",
    "resultat = int(pengar) * float(ränta) ** int(tid);\n",
    "print(resultat, \"kr\")\n"
   ]
  },
  {
   "cell_type": "code",
   "execution_count": null,
   "metadata": {},
   "outputs": [],
   "source": [
    "#Uppgift: m04u03 VÄLJ TAL\n",
    "tal = int(input(\"Ange tal: \"))\n",
    "\n",
    "print(\"Multiplikation Tabell av\", tal)\n",
    "for i in range(1, 11):\n",
    "   print(tal,\"X\",i,\"=\",tal * i)"
   ]
  },
  {
   "cell_type": "code",
   "execution_count": 69,
   "metadata": {},
   "outputs": [
    {
     "output_type": "stream",
     "name": "stdout",
     "text": [
      "x\t1\t2\t3\n1\t1\t2\t3\n2\t2\t4\t6\n3\t3\t6\t9\n"
     ]
    }
   ],
   "source": [
    "def multi(n):\n",
    "    print('x', end='\\t')\n",
    "    print('\\t'.join(str(i) for i in range(1, n+1)))\n",
    "    for r in range(1, n+1):\n",
    "        print(r, end='\\t')\n",
    "        print('\\t'.join(str(r*c) for c in range(1, n+1)))\n",
    "\n",
    "multi(3)"
   ]
  },
  {
   "cell_type": "code",
   "execution_count": null,
   "metadata": {},
   "outputs": [],
   "source": [
    "#Uppgift: m04u03 HELA\n",
    "print(\"Multiplikationstabell\", end='\\n')\n",
    "print('x', end='\\t')\n",
    "print('\\t'.join(str(i) for i in range(1, 11)))\n",
    "\n",
    "for r in range(1, 11):\n",
    "    print(r, end='\\t')\n",
    "    print('\\t'.join(str(r*c) for c in range(1, 11)))\n",
    "    "
   ]
  },
  {
   "cell_type": "code",
   "execution_count": null,
   "metadata": {},
   "outputs": [],
   "source": [
    "#Moment04\n",
    "import math as ma\n",
    "a = int(input(\"Ange rektangelns ena sida:\"))\n",
    "b = int(input(\"Ange rektangelns andra sida:\"))\n",
    "area = a*b\n",
    "\n",
    "if a==b: \n",
    "    print(f\"Svaret är {area} a.e. Eftersom bägge sidorna är lika långa så är denna rektangel en kvadrat.\")\n",
    "else:\n",
    "    print(f\"Rektangeln har sidorna {a} och {b} vilket gör att arean är {area} a.e\")\n",
    "print(\" \")\n",
    "print(\" \")\n",
    "print(\"Höjden | Volymen\")\n",
    "print(\"_________________\")\n",
    "print(\" \")\n",
    "for o in range(1,11):\n",
    "    print(o, \"|\",o*area)\n",
    "\n",
    "print(\"_________________\")\n",
    "\n",
    "\n"
   ]
  },
  {
   "cell_type": "code",
   "execution_count": null,
   "metadata": {},
   "outputs": [],
   "source": []
  }
 ]
}