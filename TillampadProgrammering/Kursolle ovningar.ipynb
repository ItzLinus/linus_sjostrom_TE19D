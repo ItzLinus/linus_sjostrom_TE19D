{
 "metadata": {
  "language_info": {
   "codemirror_mode": {
    "name": "ipython",
    "version": 3
   },
   "file_extension": ".py",
   "mimetype": "text/x-python",
   "name": "python",
   "nbconvert_exporter": "python",
   "pygments_lexer": "ipython3",
   "version": "3.8.5-final"
  },
  "orig_nbformat": 2,
  "kernelspec": {
   "name": "Python 3.8.5 64-bit",
   "display_name": "Python 3.8.5 64-bit",
   "metadata": {
    "interpreter": {
     "hash": "916dbcbb3f70747c44a77c7bcd40155683ae19c65e1c03b4aa3499c5328201f1"
    }
   }
  }
 },
 "nbformat": 4,
 "nbformat_minor": 2,
 "cells": [
  {
   "cell_type": "code",
   "execution_count": 23,
   "metadata": {},
   "outputs": [
    {
     "output_type": "stream",
     "name": "stdout",
     "text": [
      "10\n8\n6\n4\n2\nSumman av alla talen är 3840\n"
     ]
    }
   ],
   "source": [
    "summa = 1\n",
    "for i in range (10, 1, -2):\n",
    "    print(i)\n",
    "    summa *= i\n",
    "print(\"Summan av alla talen är\", summa)"
   ]
  },
  {
   "cell_type": "code",
   "execution_count": 39,
   "metadata": {},
   "outputs": [
    {
     "output_type": "stream",
     "name": "stdout",
     "text": [
      "Efter 15 år har det ökat till 162694.92154589458 kr\n"
     ]
    }
   ],
   "source": [
    "start = 10000\n",
    "ökning = 1.03\n",
    "år = 15\n",
    "resultat = start*år**ökning\n",
    "print(f\"Efter 15 år har det ökat till\",resultat,\"kr\")\n"
   ]
  },
  {
   "cell_type": "code",
   "execution_count": 51,
   "metadata": {},
   "outputs": [
    {
     "output_type": "stream",
     "name": "stdout",
     "text": [
      "15579.674166007651 2\n"
     ]
    }
   ],
   "source": [
    "import math as m \n",
    "from decimal import Decimal\n",
    "\n",
    "pengar = int(input(\"Välj ditt belopp...\"))\n",
    "ränta = float(input(\"Välj Ränta...\"))\n",
    "tid = int(input(\"Hur många år...\"))\n",
    "\n",
    "resultat = int(pengar) * float(ränta) ** int(tid);\n",
    "print(resultat, \"kr\")\n"
   ]
  },
  {
   "cell_type": "code",
   "execution_count": null,
   "metadata": {},
   "outputs": [],
   "source": []
  }
 ]
}