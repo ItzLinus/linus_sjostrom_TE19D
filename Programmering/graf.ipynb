{
 "metadata": {
  "language_info": {
   "codemirror_mode": {
    "name": "ipython",
    "version": 3
   },
   "file_extension": ".py",
   "mimetype": "text/x-python",
   "name": "python",
   "nbconvert_exporter": "python",
   "pygments_lexer": "ipython3",
   "version": 3
  },
  "orig_nbformat": 2
 },
 "nbformat": 4,
 "nbformat_minor": 2,
 "cells": [
  {
   "cell_type": "code",
   "execution_count": null,
   "metadata": {},
   "outputs": [],
   "source": []
  },
  {
   "cell_type": "code",
   "execution_count": null,
   "metadata": {},
   "outputs": [],
   "source": [
    "import matplotlip.pyplot as plt\n",
    "\n",
    "# lösningsförslag 1 - med listor\n",
    "t = [0,1,2,3,4,5]\n",
    "s = [0,900,1600,2400,3200,4000]\n",
    "\n",
    "plt.plot(t,s, 'o´-')\n",
    "plt.xlabel(\"Tiden i timmar\")\n",
    "plt.ylabel(\"Sträcka i km\")\n",
    "plt.title(\"S-T diagram för ett flyglan med konstant hastighet\")\n",
    "plt.show()"
   ]
  },
  {
   "cell_type": "code",
   "execution_count": null,
   "metadata": {},
   "outputs": [],
   "source": [
    "import numby as np\n",
    "import matplotlib.pyplot as plt\n",
    "\n",
    "x = np.arrange(6)\n",
    "y = 800*x\n",
    "print(y)\n",
    "print(x)\n",
    "\n",
    "plt.plot(t,s, 'o´-')\n",
    "plt.xlabel(\"Tiden i timmar\")\n",
    "plt.ylabel(\"Sträcka i km\")\n",
    "plt.title(\"S-T diagram för ett flyglan med konstant hastighet\")\n",
    "plt.show()"
   ]
  }
 ]
}