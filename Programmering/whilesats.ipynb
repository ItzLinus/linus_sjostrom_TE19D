{
 "metadata": {
  "language_info": {
   "codemirror_mode": {
    "name": "ipython",
    "version": 3
   },
   "file_extension": ".py",
   "mimetype": "text/x-python",
   "name": "python",
   "nbconvert_exporter": "python",
   "pygments_lexer": "ipython3",
   "version": "3.8.2-final"
  },
  "orig_nbformat": 2,
  "kernelspec": {
   "name": "Python 3.8.2 64-bit",
   "display_name": "Python 3.8.2 64-bit",
   "metadata": {
    "interpreter": {
     "hash": "916dbcbb3f70747c44a77c7bcd40155683ae19c65e1c03b4aa3499c5328201f1"
    }
   }
  }
 },
 "nbformat": 4,
 "nbformat_minor": 2,
 "cells": [
  {
   "cell_type": "code",
   "execution_count": 15,
   "metadata": {
    "tags": []
   },
   "outputs": [
    {
     "output_type": "stream",
     "name": "stdout",
     "text": "Antal år är 1 år\nAntal år är 2 år\nAntal år är 3 år\nAntal år är 4 år\nAntal år är 5 år\nAntal år är 6 år\nAntal år är 7 år\nAntal år är 8 år\nAntal år är 9 år\nAntal år är 10 år\nAntal år är 11 år\nAntal år är 12 år\nAntal år är 13 år\nAntal år är 14 år\nAntal år är 15 år\nAntal år är 16 år\nAntal år är 17 år\nAntal år är 18 år\nAntal år är 19 år\nAntal år är 20 år\nAntal år är 21 år\nAntal år är 22 år\nAntal år är 23 år\nAntal år är 24 år\nAntal år är 25 år\nAntal år är 26 år\nAntal år är 27 år\nAntal år är 28 år\nAntal år är 29 år\nAntal år är 30 år\nAntal år är 31 år\nAntal år är 32 år\nAntal år är 33 år\nAntal år är 34 år\nAntal år är 35 år\nAntal år är 36 år\nAntal år är 37 år\nAntal år är 38 år\nAntal år är 39 år\nAntal år är 40 år\nAntal år är 41 år\nAntal år är 42 år\nAntal år är 43 år\nAntal år är 44 år\nAntal år är 45 år\nAntal år är 46 år\nAntal år är 47 år\nAntal år är 48 år\nAntal år är 49 år\nAntal år är 50 år\nAntal år är 51 år\nAntal år är 52 år\nAntal år är 53 år\nAntal år är 54 år\nAntal år är 55 år\n"
    }
   ],
   "source": [
    "insättning = 1000\n",
    "förändringsfaktor = 1.02\n",
    "år = 0\n",
    "\n",
    "while insättning < 100000:\n",
    "    insättning = insättning*förändringsfaktor + 1000\n",
    "    år += 1 # Ökar med ett år\n",
    "\n",
    "    print(f\"Antal år är {år} år\")"
   ]
  },
  {
   "cell_type": "code",
   "execution_count": 16,
   "metadata": {
    "tags": []
   },
   "outputs": [
    {
     "output_type": "stream",
     "name": "stdout",
     "text": "Det kommer ta 1 timmar tills mjölken blir dålig\nDet kommer ta 2 timmar tills mjölken blir dålig\nDet kommer ta 3 timmar tills mjölken blir dålig\nDet kommer ta 4 timmar tills mjölken blir dålig\nDet kommer ta 5 timmar tills mjölken blir dålig\n"
    }
   ],
   "source": [
    "bakterier = 1.5e6 \n",
    "faktor = 1.5\n",
    "timmar = 0 \n",
    "while bakterier < 1e7:\n",
    "    bakterier = bakterier * faktor\n",
    "    timmar += 1\n",
    "    print(f\"Det kommer ta {timmar} timmar tills mjölken blir dålig\")\n",
    "    \n"
   ]
  },
  {
   "cell_type": "code",
   "execution_count": 38,
   "metadata": {
    "tags": []
   },
   "outputs": [
    {
     "output_type": "stream",
     "name": "stdout",
     "text": "5050\n"
    }
   ],
   "source": [
    "s = 1\n",
    "summa = 0\n",
    "while s <=100:\n",
    "    summa += s\n",
    "    s += 1\n",
    "print(summa)\n"
   ]
  },
  {
   "cell_type": "code",
   "execution_count": 40,
   "metadata": {
    "tags": []
   },
   "outputs": [
    {
     "output_type": "stream",
     "name": "stdout",
     "text": "1\n4\n9\n16\n25\n36\n49\n64\n81\n100\n121\n144\n169\n196\n225\n256\n289\n324\n361\n400\n441\n484\n529\n576\n625\n676\n729\n784\n841\n900\n961\n1024\n1089\n1156\n1225\n1296\n1369\n1444\n1521\n1600\n1681\n1764\n1849\n1936\n2025\n2116\n2209\n2304\n2401\n2500\n"
    }
   ],
   "source": [
    "s = 1\n",
    "summa = 0\n",
    "while s <=99:\n",
    "    summa += s\n",
    "    s += 2\n",
    "    print(summa)\n"
   ]
  },
  {
   "cell_type": "code",
   "execution_count": null,
   "metadata": {},
   "outputs": [],
   "source": []
  }
 ]
}