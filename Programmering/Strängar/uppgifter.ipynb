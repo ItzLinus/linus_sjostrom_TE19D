{
 "metadata": {
  "language_info": {
   "codemirror_mode": {
    "name": "ipython",
    "version": 3
   },
   "file_extension": ".py",
   "mimetype": "text/x-python",
   "name": "python",
   "nbconvert_exporter": "python",
   "pygments_lexer": "ipython3",
   "version": "3.8.5-final"
  },
  "orig_nbformat": 2,
  "kernelspec": {
   "name": "python3",
   "display_name": "Python 3"
  }
 },
 "nbformat": 4,
 "nbformat_minor": 2,
 "cells": [
  {
   "cell_type": "code",
   "execution_count": 1,
   "metadata": {},
   "outputs": [
    {
     "output_type": "stream",
     "name": "stdout",
     "text": [
      "Detta programmet räknar bokstäver i ditt namn. \n",
      "I ditt namn finns 5 bokstäver\n"
     ]
    }
   ],
   "source": [
    "#Uppgift 1 \n",
    "print(\"Detta programmet räknar bokstäver i ditt namn. \")\n",
    "print(\" \")\n",
    "namn = input(\"Vänligen ange ditt namn:\")\n",
    "print(f\"I ditt namn finns {len(namn)} bokstäver\")"
   ]
  },
  {
   "cell_type": "code",
   "execution_count": 6,
   "metadata": {},
   "outputs": [
    {
     "output_type": "stream",
     "name": "stdout",
     "text": [
      "Detta programmet räknar ut antalet ord i denna mening:\nEn bild säger mer än tusen ord, en matematisk formel säger mer än tusen bilder\n \nI meningen finns det 15 ord\n \n"
     ]
    }
   ],
   "source": [
    "#Uppgift 2 \n",
    "mening = \"En bild säger mer än tusen ord, en matematisk formel säger mer än tusen bilder\"\n",
    "ord = len(mening.split())\n",
    "print(\"Detta programmet räknar ut antalet ord i denna mening:\")\n",
    "print(\"En bild säger mer än tusen ord, en matematisk formel säger mer än tusen bilder\")\n",
    "print(\" \")\n",
    "print(f\"I meningen finns det {ord} ord\")\n",
    "print(\" \")"
   ]
  },
  {
   "cell_type": "code",
   "execution_count": null,
   "metadata": {},
   "outputs": [],
   "source": [
    "#Uppgift 3\n",
    "\n"
   ]
  },
  {
   "cell_type": "code",
   "execution_count": 34,
   "metadata": {},
   "outputs": [
    {
     "output_type": "error",
     "ename": "TypeError",
     "evalue": "'int' object is not iterable",
     "traceback": [
      "\u001b[0;31m---------------------------------------------------------------------------\u001b[0m",
      "\u001b[0;31mTypeError\u001b[0m                                 Traceback (most recent call last)",
      "\u001b[0;32m<ipython-input-34-8a54c4a52796>\u001b[0m in \u001b[0;36m<module>\u001b[0;34m\u001b[0m\n\u001b[1;32m      9\u001b[0m     \u001b[0mvokal_antal\u001b[0m\u001b[0;34m=\u001b[0m\u001b[0mantal\u001b[0m\u001b[0;34m\u001b[0m\u001b[0;34m\u001b[0m\u001b[0m\n\u001b[1;32m     10\u001b[0m \u001b[0;34m\u001b[0m\u001b[0m\n\u001b[0;32m---> 11\u001b[0;31m \u001b[0mtotala_vokaler\u001b[0m\u001b[0;34m=\u001b[0m\u001b[0mint\u001b[0m\u001b[0;34m(\u001b[0m\u001b[0msum\u001b[0m\u001b[0;34m(\u001b[0m\u001b[0mantal\u001b[0m\u001b[0;34m)\u001b[0m\u001b[0;34m)\u001b[0m\u001b[0;34m\u001b[0m\u001b[0;34m\u001b[0m\u001b[0m\n\u001b[0m\u001b[1;32m     12\u001b[0m \u001b[0;34m\u001b[0m\u001b[0m\n\u001b[1;32m     13\u001b[0m \u001b[0mprint\u001b[0m\u001b[0;34m(\u001b[0m\u001b[0mtotala_vokaler\u001b[0m\u001b[0;34m)\u001b[0m\u001b[0;34m\u001b[0m\u001b[0;34m\u001b[0m\u001b[0m\n",
      "\u001b[0;31mTypeError\u001b[0m: 'int' object is not iterable"
     ]
    }
   ],
   "source": [
    "#Uppgift 4\n",
    "mening = \"Do not worry about your difficulties in Mathematics. I can assure you mine are still greater.\"\n",
    "low=mening.lower()\n",
    "\n",
    "vokal_antal={}\n",
    "\n",
    "for vokal in \"aouiåeiyäö\":\n",
    "    antal=low.count(vokal)\n",
    "    vokal_antal=antal\n",
    "\n",
    "totala_vokaler=int(sum(antal))\n",
    "\n",
    "print(totala_vokaler)\n",
    "    \n"
   ]
  },
  {
   "cell_type": "code",
   "execution_count": 38,
   "metadata": {},
   "outputs": [
    {
     "output_type": "error",
     "ename": "NameError",
     "evalue": "name 'count' is not defined",
     "traceback": [
      "\u001b[0;31m---------------------------------------------------------------------------\u001b[0m",
      "\u001b[0;31mNameError\u001b[0m                                 Traceback (most recent call last)",
      "\u001b[0;32m<ipython-input-38-87a16db921ca>\u001b[0m in \u001b[0;36m<module>\u001b[0;34m\u001b[0m\n\u001b[1;32m     16\u001b[0m \u001b[0mstr\u001b[0m \u001b[0;34m=\u001b[0m \u001b[0;34m\"Do not worry about your difficulties in Mathematics. I can assure you mine are still greater.\"\u001b[0m\u001b[0;34m\u001b[0m\u001b[0;34m\u001b[0m\u001b[0m\n\u001b[1;32m     17\u001b[0m \u001b[0;34m\u001b[0m\u001b[0m\n\u001b[0;32m---> 18\u001b[0;31m \u001b[0mvowel_count\u001b[0m\u001b[0;34m(\u001b[0m\u001b[0mstr\u001b[0m\u001b[0;34m)\u001b[0m\u001b[0;34m\u001b[0m\u001b[0;34m\u001b[0m\u001b[0m\n\u001b[0m",
      "\u001b[0;32m<ipython-input-38-87a16db921ca>\u001b[0m in \u001b[0;36mvowel_count\u001b[0;34m(str)\u001b[0m\n\u001b[1;32m     12\u001b[0m             \u001b[0mantal\u001b[0m \u001b[0;34m=\u001b[0m \u001b[0mantal\u001b[0m \u001b[0;34m+\u001b[0m \u001b[0;36m1\u001b[0m\u001b[0;34m\u001b[0m\u001b[0;34m\u001b[0m\u001b[0m\n\u001b[1;32m     13\u001b[0m \u001b[0;34m\u001b[0m\u001b[0m\n\u001b[0;32m---> 14\u001b[0;31m     \u001b[0mprint\u001b[0m\u001b[0;34m(\u001b[0m\u001b[0;34m\"No. of vowels :\"\u001b[0m\u001b[0;34m,\u001b[0m \u001b[0mcount\u001b[0m\u001b[0;34m)\u001b[0m\u001b[0;34m\u001b[0m\u001b[0;34m\u001b[0m\u001b[0m\n\u001b[0m\u001b[1;32m     15\u001b[0m \u001b[0;34m\u001b[0m\u001b[0m\n\u001b[1;32m     16\u001b[0m \u001b[0mstr\u001b[0m \u001b[0;34m=\u001b[0m \u001b[0;34m\"Do not worry about your difficulties in Mathematics. I can assure you mine are still greater.\"\u001b[0m\u001b[0;34m\u001b[0m\u001b[0;34m\u001b[0m\u001b[0m\n",
      "\u001b[0;31mNameError\u001b[0m: name 'count' is not defined"
     ]
    }
   ],
   "source": [
    "# Function to count vowel \n",
    "def vowel_count(str): \n",
    "      \n",
    "    # Initializing count variable to 0 \n",
    "    antal = 0\n",
    "      \n",
    "    # Creating a set of vowels \n",
    "    vokal = set(\"aouåeiyäöAOUÅEIYÄÖ\") \n",
    "\n",
    "    for alfabet in str: \n",
    "        if alfabet in vokal: \n",
    "            antal = antal + 1\n",
    "      \n",
    "    print(\"Antal vokaler :\", antal) \n",
    "       \n",
    "str = \"Do not worry about your difficulties in Mathematics. I can assure you mine are still greater.\"\n",
    "\n",
    "vowel_count(str) "
   ]
  },
  {
   "cell_type": "code",
   "execution_count": null,
   "metadata": {},
   "outputs": [],
   "source": []
  }
 ]
}