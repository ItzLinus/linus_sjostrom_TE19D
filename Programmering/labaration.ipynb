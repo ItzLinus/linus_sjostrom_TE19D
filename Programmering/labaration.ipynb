{
 "metadata": {
  "language_info": {
   "codemirror_mode": {
    "name": "ipython",
    "version": 3
   },
   "file_extension": ".py",
   "mimetype": "text/x-python",
   "name": "python",
   "nbconvert_exporter": "python",
   "pygments_lexer": "ipython3",
   "version": "3.8.5-final"
  },
  "orig_nbformat": 2,
  "kernelspec": {
   "name": "Python 3.8.5 64-bit",
   "display_name": "Python 3.8.5 64-bit",
   "metadata": {
    "interpreter": {
     "hash": "aca8ba0246c3d5f0184fa4074b02b3610bb49e998ed33896354a02b24dbb11b6"
    }
   }
  }
 },
 "nbformat": 4,
 "nbformat_minor": 2,
 "cells": [
  {
   "cell_type": "code",
   "execution_count": null,
   "metadata": {},
   "outputs": [],
   "source": [
    "import numpy as np\n",
    "\n",
    "np.sqrt(9)"
   ]
  },
  {
   "cell_type": "code",
   "execution_count": null,
   "metadata": {},
   "outputs": [],
   "source": [
    "import matplotlib.pyplot as plt\n",
    "import numpy as np \n",
    "\n",
    "x = 0.5\n",
    "y = 0.5 \n",
    "c = x**2+y**2\n",
    "\n",
    "avstånd = np.sqrt(c)\n",
    "\n",
    "print(avstånd)\n"
   ]
  },
  {
   "source": [
    "import matplotlib.pyplot as plt\n",
    "import numpy as np \n",
    "\n",
    "x = 1\n",
    "y = 1 \n",
    "c = x**2+y**2\n",
    "\n",
    "avstånd = np.sqrt(c)\n",
    "\n",
    "print(avstånd)"
   ],
   "cell_type": "code",
   "metadata": {},
   "execution_count": null,
   "outputs": []
  },
  {
   "cell_type": "code",
   "execution_count": null,
   "metadata": {},
   "outputs": [],
   "source": [
    "import matplotlib.pyplot as plt\n",
    "import numpy as np \n",
    "\n",
    "x = 0.5\n",
    "y = -0.5 \n",
    "c = x**2+y**2\n",
    "\n",
    "avstånd = np.sqrt(c)\n",
    "\n",
    "print(avstånd)"
   ]
  },
  {
   "cell_type": "code",
   "execution_count": null,
   "metadata": {},
   "outputs": [],
   "source": [
    "import matplotlib.pyplot as plt\n",
    "import numpy as np \n",
    "import random\n",
    "\n",
    "\n",
    "x = (random.uniform(-1,1))\n",
    "y = (random.uniform(-1,1))\n",
    "\n",
    "c = x**2+y**2\n",
    "\n",
    "avstånd = np.sqrt(c)\n",
    "\n",
    "print(avstånd)"
   ]
  },
  {
   "cell_type": "code",
   "execution_count": null,
   "metadata": {},
   "outputs": [],
   "source": [
    "#Uppgift 2A\n",
    "for n in range(101):\n",
    "    print(n)"
   ]
  },
  {
   "cell_type": "code",
   "execution_count": null,
   "metadata": {},
   "outputs": [],
   "source": [
    "#Uppgift 2B\n",
    "print(\"För varje tal som är en multipel av 5 kommer jag svara burr\")\n",
    "print(\" \")\n",
    "for tal in range(101):\n",
    "    if tal % 5 == 0:\n",
    "        print(f\"{tal}, Burr!\")\n",
    "    else:\n",
    "        print(f\"{tal}\")"
   ]
  },
  {
   "cell_type": "code",
   "execution_count": null,
   "metadata": {},
   "outputs": [],
   "source": [
    "#Uppgift 2C\n",
    "print(\"Mata in en multipel, jag kommer svara på vilka tal som blir burr.\")\n",
    "multipel = int(input(\"Välj multipel\"))\n",
    "print(\" \")\n",
    "for i in range(101):\n",
    "    if i % multipel == 0:\n",
    "        print(f\"{i}, Burr!\")\n",
    "    else:\n",
    "        print(f\"{i}\")"
   ]
  },
  {
   "cell_type": "code",
   "execution_count": null,
   "metadata": {},
   "outputs": [],
   "source": [
    "#Uppgift 2D\n",
    "print(\"Mata in en multipel, jag kommer svara på vilka tal som blir Burr.\")\n",
    "print(\"Mata även in en multipel som blir Birr\")\n",
    "burr = int(input(\"Välj en Burr multipel\"))\n",
    "birr = int(input(\"Välj en Birr multipel\"))\n",
    "print(\" \")\n",
    "\n",
    "for i in range(101):\n",
    "    if i % burr == 0:\n",
    "        print(f\"{i}, Burr!\")\n",
    "    elif i % birr == 0:\n",
    "        print(f\"{i}, Birr!\")\n",
    "    else:\n",
    "        print(f\"{i}\")"
   ]
  },
  {
   "cell_type": "code",
   "execution_count": 18,
   "metadata": {},
   "outputs": [
    {
     "output_type": "stream",
     "name": "stdout",
     "text": [
      "Detta är ett burr & birr verktyg. Välj start - stop och multipel till burr & birr.\n",
      "1\n",
      "2, Burr!\n",
      "3\n",
      "4, Burr!\n",
      "5, Birr!\n",
      "6, Burr!\n",
      "7\n",
      "8, Burr!\n",
      "9\n"
     ]
    }
   ],
   "source": [
    "#Uppgift 2E\n",
    "print(\"Detta är ett burr & birr verktyg. Välj start - stop och multipel till burr & birr.\")\n",
    "start = int(input(\"Välj start\"))\n",
    "stop = int(input(\"Välj stop\"))\n",
    "burr = int(input(\"Välj en Burr multipel\"))\n",
    "birr = int(input(\"Välj en Birr multipel\"))\n",
    "\n",
    "for i in range(start,stop):\n",
    "    if i % burr == 0:\n",
    "        print(f\"{i}, Burr!\")\n",
    "    elif i % birr == 0:\n",
    "        print(f\"{i}, Birr!\")\n",
    "    else:\n",
    "        print(f\"{i}\")"
   ]
  },
  {
   "cell_type": "code",
   "execution_count": 17,
   "metadata": {},
   "outputs": [],
   "source": [
    "#Uppgift 2F - För att utveckla programmet har jag valt att göra koden mer ren och lättare för användaren att använda.\n",
    "\n",
    "print(\"Detta är ett burr & birr verktyg. Välj start - stop och multipel till burr & birr.\")\n",
    "print(\" \")\n",
    "start = int(input(\"Välj start\")) #Detta är det tal som börjar koden. \n",
    "stop = int(input(\"Välj stop\")) #Detta är det tal som du väljer att programmet skall räkna till-\n",
    "burr = int(input(\"Välj en Burr multipel\")) #Detta är den multipel som programmet svarar burr\n",
    "birr = int(input(\"Välj en Birr multipel\")) #Detta är den multipel som programmet svarar birr\n",
    "\n",
    "for i in range(start,stop):  \n",
    "    if i % burr == 0:\n",
    "        print(f\"{i}, Burr!\")\n",
    "    elif i % birr == 0:\n",
    "        print(f\"{i}, Birr!\")\n",
    "    else:\n",
    "        print(f\"{i}\")"
   ]
  }
 ]
}