{
 "metadata": {
  "language_info": {
   "codemirror_mode": {
    "name": "ipython",
    "version": 3
   },
   "file_extension": ".py",
   "mimetype": "text/x-python",
   "name": "python",
   "nbconvert_exporter": "python",
   "pygments_lexer": "ipython3",
<<<<<<< HEAD
   "version": "3.8.3-final"
  },
  "orig_nbformat": 2,
  "kernelspec": {
   "name": "Python 3.8.3 64-bit ('base': conda)",
   "display_name": "Python 3.8.3 64-bit ('base': conda)",
=======
   "version": "3.8.5-final"
  },
  "orig_nbformat": 2,
  "kernelspec": {
   "name": "Python 3.8.5 64-bit",
   "display_name": "Python 3.8.5 64-bit",
>>>>>>> 55c142f5f839058d0b48b9f890c5998a6cd6bff2
   "metadata": {
    "interpreter": {
     "hash": "aca8ba0246c3d5f0184fa4074b02b3610bb49e998ed33896354a02b24dbb11b6"
    }
   }
  }
 },
 "nbformat": 4,
 "nbformat_minor": 2,
 "cells": [
  {
   "cell_type": "code",
   "execution_count": null,
   "metadata": {},
   "outputs": [],
   "source": [
    "import numpy as np\n",
    "\n",
    "np.sqrt(9)"
   ]
  },
  {
   "cell_type": "code",
   "execution_count": null,
   "metadata": {},
   "outputs": [],
   "source": [
    "import matplotlib.pyplot as plt\n",
    "import numpy as np \n",
    "\n",
    "x = 0.5\n",
    "y = 0.5 \n",
    "c = x**2+y**2\n",
    "\n",
<<<<<<< HEAD
    "avstånd = np.sqrt(c)\n",
    "\n",
    "print(avstånd)\n"
   ]
  },
  {
   "source": [
    "import matplotlib.pyplot as plt\n",
    "import numpy as np \n",
    "\n",
    "x = 1\n",
    "y = 1 \n",
    "c = x**2+y**2\n",
    "\n",
    "avstånd = np.sqrt(c)\n",
    "\n",
    "print(avstånd)"
   ],
   "cell_type": "code",
   "metadata": {},
   "execution_count": null,
   "outputs": []
  },
  {
=======
    "plt.ylabel('Number Yes?')\n",
    "plt.show()   \n",
    "\n"
   ]
  },
  {
>>>>>>> 55c142f5f839058d0b48b9f890c5998a6cd6bff2
   "cell_type": "code",
   "execution_count": null,
   "metadata": {},
   "outputs": [],
   "source": [
<<<<<<< HEAD
    "import matplotlib.pyplot as plt\n",
    "import numpy as np \n",
    "\n",
    "x = 0.5\n",
    "y = -0.5 \n",
    "c = x**2+y**2\n",
    "\n",
    "avstånd = np.sqrt(c)\n",
    "\n",
    "print(avstånd)"
=======
    "# Uppgift 2 a-b\n",
    "for i in range(1,100):\n",
    "    if i % 5 == 0:\n",
    "        print(\"Burr\")\n",
    "    else:\n",
    "        print(i, end=\" \")"
>>>>>>> 55c142f5f839058d0b48b9f890c5998a6cd6bff2
   ]
  },
  {
   "cell_type": "code",
   "execution_count": null,
   "metadata": {},
   "outputs": [],
   "source": [
<<<<<<< HEAD
    "import matplotlib.pyplot as plt\n",
    "import numpy as np \n",
    "import random\n",
    "\n",
    "\n",
    "x = (random.uniform(-1,1))\n",
    "y = (random.uniform(-1,1))\n",
    "\n",
    "c = x**2+y**2\n",
    "\n",
    "avstånd = np.sqrt(c)\n",
    "\n",
    "print(avstånd)"
=======
    "#Uppgift 2C\n",
    "tal = int(input(\"Skriv din multipel\"))\n",
    "for i in range(1,100):\n",
    "    if i % tal == 0:\n",
    "        print(\"Burr\")\n",
    "    else:\n",
    "        print(i, end=\" \")"
>>>>>>> 55c142f5f839058d0b48b9f890c5998a6cd6bff2
   ]
  },
  {
   "cell_type": "code",
   "execution_count": null,
   "metadata": {},
   "outputs": [],
   "source": [
<<<<<<< HEAD
    "for n in range(101):\n",
    "    print(n)"
   ]
  },
  {
   "cell_type": "code",
   "execution_count": 83,
   "metadata": {},
   "outputs": [
    {
     "output_type": "stream",
     "name": "stdout",
     "text": [
      "Ange ett tal, för varje tall som är en multipel av 5 kommer jag svara burr\n",
      " \n",
      "2 är ingen multipel av 5\n"
     ]
    }
   ],
   "source": [
    "print(\"Ange ett tal, för varje tall som är en multipel av 5 kommer jag svara burr\")\n",
    "tal = int(input(\"Ange ditt tal: \"))\n",
    "print(\" \")\n",
    "if tal % 5 == 0:\n",
    "    print(\"Burr!\")\n",
    "else:\n",
    "    print(f\"{tal} är ingen multipel av 5\")"
=======
    "# Uppgift 2D\n",
    "burr = int(input(\"Skriv din multipel som du vill ska anges som Burr\"))\n",
    "birr = int(input(\"Ange även en annan multipel som kommer skriva ut Birr\"))\n",
    "for i in range(1,100):\n",
    "    if i % burr == 0:\n",
    "        print(\"Burr\")\n",
    "    if i % birr == 0:\n",
    "        print(\"Birr\")\n",
    "    else:\n",
    "        print(i, end=\" \")"
>>>>>>> 55c142f5f839058d0b48b9f890c5998a6cd6bff2
   ]
  },
  {
   "cell_type": "code",
   "execution_count": null,
   "metadata": {},
   "outputs": [],
   "source": []
  }
 ]
}