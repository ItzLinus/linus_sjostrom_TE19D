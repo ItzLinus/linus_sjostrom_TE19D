{
 "metadata": {
  "language_info": {
   "codemirror_mode": {
    "name": "ipython",
    "version": 3
   },
   "file_extension": ".py",
   "mimetype": "text/x-python",
   "name": "python",
   "nbconvert_exporter": "python",
   "pygments_lexer": "ipython3",
   "version": "3.8.3-final"
  },
  "orig_nbformat": 2,
  "kernelspec": {
   "name": "Python 3.8.3 64-bit (conda)",
   "display_name": "Python 3.8.3 64-bit (conda)",
   "metadata": {
    "interpreter": {
     "hash": "b3ba2566441a7c06988d0923437866b63cedc61552a5af99d1f4fb67d367b25f"
    }
   }
  }
 },
 "nbformat": 4,
 "nbformat_minor": 2,
 "cells": [
  {
   "cell_type": "code",
   "execution_count": null,
   "metadata": {},
   "outputs": [],
   "source": [
    "import numpy as np\n",
    "\n",
    "np.sqrt(9)"
   ]
  },
  {
   "cell_type": "code",
   "execution_count": null,
   "metadata": {},
   "outputs": [],
   "source": [
    "import numpy as np \n",
    "\n",
    "x = 0.5\n",
    "y = 0.5 \n",
    "c = x**2+y**2\n",
    "\n",
    "avstånd = np.sqrt(c)\n",
    "\n",
    "print(avstånd)\n"
   ]
  },
  {
   "source": [
    "import numpy as np \n",
    "\n",
    "x = 1\n",
    "y = 1 \n",
    "c = x**2+y**2\n",
    "\n",
    "avstånd = np.sqrt(c)\n",
    "\n",
    "print(avstånd)"
   ],
   "cell_type": "code",
   "metadata": {},
   "execution_count": null,
   "outputs": []
  },
  {
   "cell_type": "code",
   "execution_count": 1,
   "metadata": {},
   "outputs": [
    {
     "output_type": "stream",
     "name": "stdout",
     "text": [
      "0.7071067811865476\n"
     ]
    }
   ],
   "source": [
    "import numpy as np \n",
    "\n",
    "x = 0.5\n",
    "y = -0.5 \n",
    "c = x**2+y**2\n",
    "\n",
    "avstånd = np.sqrt(c)\n",
    "\n",
    "print(avstånd)"
   ]
  },
  {
   "cell_type": "code",
   "execution_count": null,
   "metadata": {},
   "outputs": [],
   "source": [
    "import numpy as np \n",
    "import random\n",
    "\n",
    "\n",
    "x = (random.uniform(-1,1))\n",
    "y = (random.uniform(-1,1))\n",
    "\n",
    "c = x**2+y**2\n",
    "\n",
    "avstånd = np.sqrt(c)\n",
    "\n",
    "print(avstånd)"
   ]
  },
  {
   "cell_type": "code",
   "execution_count": null,
   "metadata": {},
   "outputs": [],
   "source": [
    "for n in range(101):\n",
    "    print(n)"
   ]
  },
  {
   "cell_type": "code",
   "execution_count": 83,
   "metadata": {},
   "outputs": [
    {
     "output_type": "stream",
     "name": "stdout",
     "text": [
      "Ange ett tal, för varje tall som är en multipel av 5 kommer jag svara burr\n",
      " \n",
      "2 är ingen multipel av 5\n"
     ]
    }
   ],
   "source": [
    "for i in range(1,101):\n",
    "    print(i)\n",
    "print(\"Ange ett tal, för varje tal som är en multipel av 5 kommer jag svara burr\")\n",
    "tal = int(input(\"Ange ditt tal: \"))\n",
    "print(\" \")\n",
    "if tal % 5 == 0:\n",
    "    print(\"Burr!\")\n",
    "else:\n",
    "    print(f\"{tal} är ingen multipel av 5\")"
   ]
  },
  {
   "cell_type": "code",
   "execution_count": null,
   "metadata": {},
   "outputs": [],
   "source": []
  }
 ]
}