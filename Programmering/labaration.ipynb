{
 "metadata": {
  "language_info": {
   "codemirror_mode": {
    "name": "ipython",
    "version": 3
   },
   "file_extension": ".py",
   "mimetype": "text/x-python",
   "name": "python",
   "nbconvert_exporter": "python",
   "pygments_lexer": "ipython3",
   "version": "3.8.5-final"
  },
  "orig_nbformat": 2,
  "kernelspec": {
   "name": "Python 3.8.5 64-bit",
   "display_name": "Python 3.8.5 64-bit",
   "metadata": {
    "interpreter": {
     "hash": "916dbcbb3f70747c44a77c7bcd40155683ae19c65e1c03b4aa3499c5328201f1"
    }
   }
  }
 },
 "nbformat": 4,
 "nbformat_minor": 2,
 "cells": [
  {
   "cell_type": "code",
   "execution_count": null,
   "metadata": {},
   "outputs": [],
   "source": [
    "import numpy as np\n",
    "\n",
    "np.sqrt(9)"
   ]
  },
  {
   "cell_type": "code",
   "execution_count": null,
   "metadata": {},
   "outputs": [],
   "source": [
    "import matplotlib.pyplot as plt\n",
    "\n",
    "x = 0.5\n",
    "y = 0.5 \n",
    "c = x**2+y**2\n",
    "\n",
    "plt.ylabel('Number Yes?')\n",
    "plt.show()   \n",
    "\n"
   ]
  },
  {
   "cell_type": "code",
   "execution_count": null,
   "metadata": {},
   "outputs": [],
   "source": [
    "# Uppgift 2 a-b\n",
    "for i in range(1,100):\n",
    "    if i % 5 == 0:\n",
    "        print(\"Burr\")\n",
    "    else:\n",
    "        print(i, end=\" \")"
   ]
  },
  {
   "cell_type": "code",
   "execution_count": 17,
   "metadata": {},
   "outputs": [
    {
     "output_type": "stream",
     "name": "stdout",
     "text": [
      "1 2 3 4 5 6 7 8 9 Burr\n11 12 13 14 15 16 17 18 19 Burr\n21 22 23 24 25 26 27 28 29 Burr\n31 32 33 34 35 36 37 38 39 Burr\n41 42 43 44 45 46 47 48 49 Burr\n51 52 53 54 55 56 57 58 59 Burr\n61 62 63 64 65 66 67 68 69 Burr\n71 72 73 74 75 76 77 78 79 Burr\n81 82 83 84 85 86 87 88 89 Burr\n91 92 93 94 95 96 97 98 99 "
     ]
    }
   ],
   "source": [
    "#Uppgift 2C\n",
    "tal = int(input(\"Skriv din multipel\"))\n",
    "for i in range(1,100):\n",
    "    if i % tal == 0:\n",
    "        print(\"Burr\")\n",
    "    else:\n",
    "        print(i, end=\" \")"
   ]
  },
  {
   "cell_type": "code",
   "execution_count": 20,
   "metadata": {},
   "outputs": [
    {
     "output_type": "stream",
     "name": "stdout",
     "text": [
      "1 2 3 4 Burr\n6 7 8 9 Burr\n11 12 13 14 Burr\n16 17 18 19 Burr\n21 22 23 24 Burr\n26 27 28 29 Burr\n31 32 33 34 Burr\n36 37 38 39 Burr\n41 42 43 44 Burr\n46 47 48 49 Burr\n51 52 53 54 Burr\n56 57 58 59 Burr\n61 62 63 64 Burr\n66 67 68 69 Burr\n71 72 73 74 Burr\n76 77 78 79 Burr\n81 82 83 84 Burr\n86 87 88 89 Burr\n91 92 93 94 Burr\n96 97 98 99 "
     ]
    }
   ],
   "source": [
    "# Uppgift 2D\n",
    "burr = int(input(\"Skriv din multipel som du vill ska anges som Burr\"))\n",
    "birr = int(input(\"Ange även en annan multipel som kommer skriva ut Birr\"))\n",
    "for i in range(1,100):\n",
    "    if i % burr == 0:\n",
    "        print(\"Burr\")\n",
    "    if i % birr == 0:\n",
    "        print(\"Birr\")\n",
    "    else:\n",
    "        print(i, end=\" \")"
   ]
  },
  {
   "cell_type": "code",
   "execution_count": null,
   "metadata": {},
   "outputs": [],
   "source": []
  }
 ]
}