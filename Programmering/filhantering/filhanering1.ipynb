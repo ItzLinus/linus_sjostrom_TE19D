{
 "metadata": {
  "language_info": {
   "codemirror_mode": {
    "name": "ipython",
    "version": 3
   },
   "file_extension": ".py",
   "mimetype": "text/x-python",
   "name": "python",
   "nbconvert_exporter": "python",
   "pygments_lexer": "ipython3",
   "version": "3.9.0-final"
  },
  "orig_nbformat": 2,
  "kernelspec": {
   "name": "python3",
   "display_name": "Python 3.9.0 64-bit",
   "metadata": {
    "interpreter": {
     "hash": "7c02499deb1a505bb42fd41c09f8cf95ca224d2a0a71f9d16360f919a2f3d39f"
    }
   }
  }
 },
 "nbformat": 4,
 "nbformat_minor": 2,
 "cells": [
  {
   "cell_type": "code",
   "execution_count": null,
   "metadata": {},
   "outputs": [],
   "source": [
    "före1800 = []\n",
    "with open (\"Stora_forskare.txt\", \"r\") as f1:\n",
    "    for rad in f1:\n",
    "        #print(rad, end='')\n",
    "        rad = rad.strip(\" \\n\")\n",
    "        print(rad)\n",
    "\n",
    "        år = int(rad[-10:-6]) # typomvandlar årtalet till heltal\n",
    "        if år < 1800:\n",
    "            före1800.append(rad[:-11])\n",
    "    \n",
    "    \n",
    "    print(\"\\nFöljande förskare vad födda före 1800-talet.\")\n",
    "    for person in före1800:\n",
    "        print (person)\n",
    "    "
   ]
  },
  {
   "cell_type": "code",
   "execution_count": null,
   "metadata": {},
   "outputs": [],
   "source": [
    "with open(\"Stora_forskare.txt\", \"r\") as f1, open(\"Stora_forskare2.txt\", \"w\") as f2:\n",
    "    for rad in f1:\n",
    "        rad = rad.strip(\" \")\n",
    "        f2.write(rad)\n",
    "\n",
    "    f2.write(\"Andrew Wiles 1953-04-11\\n\")"
   ]
  },
  {
   "cell_type": "code",
   "execution_count": null,
   "metadata": {},
   "outputs": [],
   "source": [
    "with open(\"Stora_forskare2.txt\",\"w\") as f1:\n",
    "    f1.write(\"Marie Curie 1867-11-07\\n\") #Skriver över informationen i filen. "
   ]
  },
  {
   "cell_type": "code",
   "execution_count": null,
   "metadata": {},
   "outputs": [],
   "source": [
    "with open(\"Stora_forskare2.txt\", \"a\") as f1: # option: append, läggr till i din fil.\n",
    "    f1.write(\"Albert Einstein 1897-03-14\\n\")"
   ]
  },
  {
   "cell_type": "code",
   "execution_count": 50,
   "metadata": {},
   "outputs": [
    {
     "output_type": "stream",
     "name": "stdout",
     "text": [
      "6 6 1 2 3 6 4 2 3 6\n"
     ]
    }
   ],
   "source": [
    "# Uppgift 1\n",
    "from random import randint as rm\n",
    "kast = []\n",
    "with open(\"tärningskast.txt\", \"w\") as f1:\n",
    "    print(*[rm(1, 6) for i in range(10)])\n"
   ]
  },
  {
   "cell_type": "code",
   "execution_count": 56,
   "metadata": {},
   "outputs": [],
   "source": [
    "# Uppgift 1\n",
    "from random import randint as rm\n",
    "kast = [str(rm(1, 6)) for i in range(10)]\n",
    "with open(\"tärningskast.txt\", \"w\") as f1:\n",
    "    s\n",
    "    for tal in kast:\n",
    "        f1.write(f\"{tal} \")\n"
   ]
  },
  {
   "cell_type": "code",
   "execution_count": null,
   "metadata": {},
   "outputs": [],
   "source": []
  }
 ]
}