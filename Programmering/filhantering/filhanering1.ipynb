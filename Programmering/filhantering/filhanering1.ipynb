{
 "metadata": {
  "language_info": {
   "codemirror_mode": {
    "name": "ipython",
    "version": 3
   },
   "file_extension": ".py",
   "mimetype": "text/x-python",
   "name": "python",
   "nbconvert_exporter": "python",
   "pygments_lexer": "ipython3",
   "version": "3.8.5-final"
  },
  "orig_nbformat": 2,
  "kernelspec": {
   "name": "python38564bit544ba32efe57430f98ee1aa8c7c883e3",
   "display_name": "Python 3.8.5 64-bit",
   "language": "python"
  }
 },
 "nbformat": 4,
 "nbformat_minor": 2,
 "cells": [
  {
   "cell_type": "code",
   "execution_count": 1,
   "metadata": {},
   "outputs": [
    {
     "output_type": "stream",
     "name": "stdout",
     "text": [
      "Isaac Newton 1643-01-04\nGallileo Gallilei 1564-02-15\nLeonhard Euler 1707-04-15\nAlbert Einstein 1879-03-14\nCarl Friedrich Gauss 1799-04-30\nStephen Hawking 1942-01-08\n\nFöljande förskare vad födda före 1800-talet.\nIsaac Newton\nGallileo Gallilei\nLeonhard Euler\nCarl Friedrich Gauss\n"
     ]
    }
   ],
   "source": [
    "före1800 = []\n",
    "with open (\"Stora_forskare.txt\", \"r\") as f1:\n",
    "    for rad in f1:\n",
    "        #print(rad, end='')\n",
    "        rad = rad.strip(\" \\n\")\n",
    "        print(rad)\n",
    "\n",
    "        år = int(rad[-10:-6]) # typomvandlar årtalet till heltal\n",
    "        if år < 1800:\n",
    "            före1800.append(rad[:-11])\n",
    "    \n",
    "    \n",
    "    print(\"\\nFöljande förskare vad födda före 1800-talet.\")\n",
    "    for person in före1800:\n",
    "        print (person)\n",
    "    "
   ]
  },
  {
   "cell_type": "code",
   "execution_count": null,
   "metadata": {},
   "outputs": [],
   "source": [
    "with open(\"Stora_forskare.txt\", \"r\") as f1, open(\"Stora_forskare2.txt\", \"w\") as f2:\n",
    "    for rad in f1:\n",
    "        rad = rad.strip(\" \")\n",
    "        f2.write(rad)\n",
    "\n",
    "    f2.write(\"Andrew Wiles 1953-04-11\\n\")"
   ]
  },
  {
   "cell_type": "code",
   "execution_count": null,
   "metadata": {},
   "outputs": [],
   "source": [
    "with open(\"Stora_forskare2.txt\",\"w\") as f1:\n",
    "    f1.write(\"Marie Curie 1867-11-07\\n\") #Skriver över informationen i filen. "
   ]
  },
  {
   "cell_type": "code",
   "execution_count": null,
   "metadata": {},
   "outputs": [],
   "source": [
    "with open(\"Stora_forskare2.txt\", \"a\") as f1: # option: append, läggr till i din fil.\n",
    "    f1.write(\"Albert Einstein 1897-03-14\\n\")"
   ]
  },
  {
   "cell_type": "code",
   "execution_count": 50,
   "metadata": {},
   "outputs": [
    {
     "output_type": "stream",
     "name": "stdout",
     "text": [
      "6 6 1 2 3 6 4 2 3 6\n"
     ]
    }
   ],
   "source": [
    "# Uppgift 1\n",
    "from random import randint as rm\n",
    "kast = []\n",
    "with open(\"tärningskast.txt\", \"w\") as f1:\n",
    "    print(*[rm(1, 6) for i in range(10)])\n"
   ]
  },
  {
   "cell_type": "code",
   "execution_count": 73,
   "metadata": {},
   "outputs": [
    {
     "output_type": "error",
     "ename": "IndentationError",
     "evalue": "expected an indented block (<ipython-input-73-39a110ebbdd6>, line 14)",
     "traceback": [
      "\u001b[0;36m  File \u001b[0;32m\"<ipython-input-73-39a110ebbdd6>\"\u001b[0;36m, line \u001b[0;32m14\u001b[0m\n\u001b[0;31m    fem += 1\u001b[0m\n\u001b[0m    ^\u001b[0m\n\u001b[0;31mIndentationError\u001b[0m\u001b[0;31m:\u001b[0m expected an indented block\n"
     ]
    }
   ],
   "source": [
    "# Uppgift 1\n",
    "from random import randint as rm\n",
    "kast = [str(rm(1, 6)) for i in range(10)]\n",
    "with open(\"tärningskast.txt\", \"w\") as f1:\n",
    "    f1.write(\"10 Simulerade tärningskast:\\n\")\n",
    "    for tal in kast:\n",
    "        f1.write(f\"{tal} \")\n",
    "    f1.write(\"\\n\")\n",
    "    f1.write(\"\\nTärningarna i sorterad ordning.\\n\")\n",
    "    sort = sorted(kast) # Här sorterar vi talen i kast i numerisk ordning 1-6\n",
    "    f1.write(f\"{sort}\")\n",
    "    fem = 0 \n",
    "    if sort == 5:\n",
    "      fem += 1\n",
    "    print(fem)\n"
   ]
  },
  {
   "cell_type": "code",
   "execution_count": null,
   "metadata": {},
   "outputs": [],
   "source": []
  }
 ]
}